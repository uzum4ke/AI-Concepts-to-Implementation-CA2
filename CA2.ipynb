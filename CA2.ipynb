{
 "cells": [
  {
   "cell_type": "code",
   "execution_count": 11,
   "metadata": {},
   "outputs": [],
   "source": [
    "class GameTree:\n",
    "    def __init__(self, value=None, children=None):\n",
    "        self.value = value\n",
    "        self.children = children if children is not None else []\n",
    "\n",
    "    def add_child(self, child):\n",
    "        self.children.append(child)\n",
    "\n",
    "    def is_leaf(self):\n",
    "        return len(self.children) == 0"
   ]
  },
  {
   "cell_type": "code",
   "execution_count": 12,
   "metadata": {},
   "outputs": [],
   "source": [
    "# Displaying the structure of the tree\n",
    "def display_tree(node, level=0):\n",
    "    indent = \" \" * (4 * level)\n",
    "    print(f\"{indent}{node.value}\")\n",
    "    for child in node.children:\n",
    "        display_tree(child, level + 1)"
   ]
  },
  {
   "cell_type": "code",
   "execution_count": 13,
   "metadata": {},
   "outputs": [
    {
     "name": "stdout",
     "output_type": "stream",
     "text": [
      "x_01\n",
      "    5\n",
      "    x_12\n",
      "        x_21\n",
      "            1\n",
      "            x_32\n",
      "                4\n",
      "                2\n",
      "        x_22\n",
      "            5\n",
      "            x_34\n",
      "                4\n",
      "                3\n"
     ]
    }
   ],
   "source": [
    "# depth 0\n",
    "x_01 = GameTree('x_01')\n",
    "\n",
    "# depth 1\n",
    "x_11 = GameTree(5)\n",
    "x_01.add_child(x_11)\n",
    "\n",
    "x_12 = GameTree('x_12')\n",
    "x_01.add_child(x_12)\n",
    "\n",
    "# depth 2\n",
    "x_21 = GameTree('x_21')\n",
    "x_12.add_child(x_21)\n",
    "\n",
    "x_22 = GameTree('x_22')\n",
    "x_12.add_child(x_22)\n",
    "\n",
    "# depth 3\n",
    "x_31 = GameTree(1)\n",
    "x_21.add_child(x_31)\n",
    "\n",
    "x_32 = GameTree('x_32')\n",
    "x_21.add_child(x_32)\n",
    "\n",
    "x_33 = GameTree(5)\n",
    "x_22.add_child(x_33)\n",
    "\n",
    "x_34 = GameTree('x_34')\n",
    "x_22.add_child(x_34)\n",
    "\n",
    "# depth 4\n",
    "\n",
    "x_41 = GameTree(4) \n",
    "x_32.add_child(x_41)\n",
    "x_42 = GameTree(2)\n",
    "x_32.add_child(x_42)\n",
    "x_43 = GameTree(4)\n",
    "x_34.add_child(x_43)\n",
    "x_44 = GameTree(3)\n",
    "x_34.add_child(x_44)\n",
    "\n",
    "\n",
    "# Display the tree\n",
    "display_tree(x_01)\n"
   ]
  },
  {
   "cell_type": "code",
   "execution_count": null,
   "metadata": {},
   "outputs": [],
   "source": []
  }
 ],
 "metadata": {
  "kernelspec": {
   "display_name": "Python 3",
   "language": "python",
   "name": "python3"
  },
  "language_info": {
   "codemirror_mode": {
    "name": "ipython",
    "version": 3
   },
   "file_extension": ".py",
   "mimetype": "text/x-python",
   "name": "python",
   "nbconvert_exporter": "python",
   "pygments_lexer": "ipython3",
   "version": "3.10.10"
  }
 },
 "nbformat": 4,
 "nbformat_minor": 2
}
