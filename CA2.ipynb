{
 "cells": [
  {
   "cell_type": "code",
   "execution_count": 93,
   "metadata": {},
   "outputs": [],
   "source": [
    "class GameTree:\n",
    "    def __init__(self, value=None, children=None):\n",
    "        self.value = value\n",
    "        self.children = children if children is not None else []\n",
    "\n",
    "    def add_child(self, child):\n",
    "        self.children.append(child)\n",
    "\n",
    "    def is_leaf(self):\n",
    "        return len(self.children) == 0"
   ]
  },
  {
   "cell_type": "code",
   "execution_count": 94,
   "metadata": {},
   "outputs": [],
   "source": [
    "# Displaying the structure of the tree\n",
    "def display_tree(node, level=0):\n",
    "    indent = \" \" * (4 * level)\n",
    "\n",
    "    if node.value[1] is not None:\n",
    "        print(f\"{indent}{node.value[1]}\")\n",
    "    else: \n",
    "        print(f\"{indent}{node.value[0]}\")\n",
    "    for child in node.children:\n",
    "        display_tree(child, level + 1)"
   ]
  },
  {
   "cell_type": "code",
   "execution_count": 95,
   "metadata": {},
   "outputs": [
    {
     "name": "stdout",
     "output_type": "stream",
     "text": [
      "x_01\n",
      "    5\n",
      "    x_12\n",
      "        x_21\n",
      "            1\n",
      "            x_32\n",
      "                4\n",
      "                2\n",
      "        x_22\n",
      "            5\n",
      "            x_34\n",
      "                4\n",
      "                3\n"
     ]
    }
   ],
   "source": [
    "# depth 0\n",
    "x_01 = GameTree(['x_01', None])\n",
    "\n",
    "# depth 1\n",
    "x_11 = GameTree(['x_11', 5])\n",
    "x_01.add_child(x_11)\n",
    "\n",
    "x_12 = GameTree(['x_12', None])\n",
    "x_01.add_child(x_12)\n",
    "\n",
    "# depth 2\n",
    "x_21 = GameTree(['x_21', None])\n",
    "x_12.add_child(x_21)\n",
    "\n",
    "x_22 = GameTree(['x_22', None])\n",
    "x_12.add_child(x_22)\n",
    "\n",
    "# depth 3\n",
    "x_31 = GameTree(['x_31', 1])\n",
    "x_21.add_child(x_31)\n",
    "\n",
    "x_32 = GameTree(['x_32', None])\n",
    "x_21.add_child(x_32)\n",
    "\n",
    "x_33 = GameTree(['x_33', 5])\n",
    "x_22.add_child(x_33)\n",
    "\n",
    "x_34 = GameTree(['x_34', None])\n",
    "x_22.add_child(x_34)\n",
    "\n",
    "# depth 4\n",
    "\n",
    "x_41 = GameTree(['x_41', 4]) \n",
    "x_32.add_child(x_41)\n",
    "\n",
    "x_42 = GameTree(['x_42', 2])\n",
    "x_32.add_child(x_42)\n",
    "\n",
    "x_43 = GameTree(['x_43', 4])\n",
    "x_34.add_child(x_43)\n",
    "\n",
    "x_44 = GameTree(['x_44', 3])\n",
    "x_34.add_child(x_44)\n",
    "\n",
    "\n",
    "# Display the tree\n",
    "display_tree(x_01)\n"
   ]
  },
  {
   "cell_type": "code",
   "execution_count": 96,
   "metadata": {},
   "outputs": [
    {
     "name": "stdout",
     "output_type": "stream",
     "text": [
      "\n",
      "The value of the root node (x_01) after applying Minimax is: 5\n"
     ]
    }
   ],
   "source": [
    "def minimax(node, depth, is_maximizing_player):\n",
    "    # Print the current node being considered\n",
    "\n",
    "    # Base case: if the current node is a leaf node\n",
    "    if node.is_leaf():\n",
    "        return node.value[1]\n",
    "\n",
    "    # Recursive case: if the current node is a variable node\n",
    "    if is_maximizing_player:\n",
    "        best_value = float('-inf')\n",
    "        for child in node.children:\n",
    "            value = minimax(child, depth + 1, False)\n",
    "            best_value = max(best_value, value)\n",
    "        return best_value\n",
    "    else:\n",
    "        best_value = float('inf')\n",
    "        for child in node.children:\n",
    "            value = minimax(child, depth + 1, True)\n",
    "            best_value = min(best_value, value)\n",
    "        return best_value\n",
    "\n",
    "# Applying the Minimax algorithm to the root of the game tree\n",
    "minimax_value = minimax(x_01, 0, True)\n",
    "print(f\"\\nThe value of the root node (x_01) after applying Minimax is: {minimax_value}\")\n"
   ]
  },
  {
   "cell_type": "code",
   "execution_count": 97,
   "metadata": {},
   "outputs": [
    {
     "name": "stdout",
     "output_type": "stream",
     "text": [
      "current node:x_01, after returning from child: x_11: (alpha:5, beta:inf) \n",
      "current node:x_21, after returning from child: x_31: (alpha:5, beta:inf) \n",
      "current node:x_32, after returning from child: x_41: (alpha:5, beta:4) \n",
      "\tPruning right subtree at node: x_32:4\n",
      "current node:x_21, after returning from child: x_32: (alpha:5, beta:inf) \n",
      "current node:x_12, after returning from child: x_21: (alpha:5, beta:4) \n",
      "\tPruning right subtree at node: x_12:4\n",
      "current node:x_01, after returning from child: x_12: (alpha:5, beta:inf) \n",
      "\n",
      "The value of the root node (x_01) after applying Minimax is: 5\n"
     ]
    }
   ],
   "source": [
    "def alpha_beta_pruning(node, depth, alpha, beta, is_maximizing_player):\n",
    "\n",
    "    # Base case: if the current node is a leaf node\n",
    "    if node.is_leaf():\n",
    "        return node.value[1]\n",
    "\n",
    "    # Recursive case: if the current node is a variable node\n",
    "    if is_maximizing_player:\n",
    "        best_value = float('-inf')\n",
    "        for child in node.children:\n",
    "            value = alpha_beta_pruning(child, depth + 1,  alpha, beta, False)\n",
    "            best_value = max(best_value, value)\n",
    "            alpha = max(alpha, value)\n",
    "\n",
    "            print(f'current node:{node.value[0]}, after returning from child: {child.value[0]}: (alpha:{alpha}, beta:{beta}) ')\n",
    "            if beta <= alpha:\n",
    "                print(f'\\tPruning right subtree at node: {node.value[0]}:{best_value}')\n",
    "                break\n",
    "        return best_value\n",
    "    else:\n",
    "        best_value = float('inf')\n",
    "        for child in node.children:\n",
    "            value = alpha_beta_pruning(child, depth + 1,  alpha, beta, True)\n",
    "            best_value = min(best_value, value)\n",
    "            beta = min(beta, value)\n",
    "            print(f'current node:{node.value[0]}, after returning from child: {child.value[0]}: (alpha:{alpha}, beta:{beta}) ')\n",
    "            if beta <= alpha:\n",
    "                print(f'\\tPruning right subtree at node: {node.value[0]}:{best_value}')\n",
    "                break\n",
    "\n",
    "        return best_value\n",
    "\n",
    "\n",
    "alpha_beta_pruning_value = alpha_beta_pruning(x_01, 0, float('-inf'), float('inf'), True)\n",
    "print(f\"\\nThe value of the root node (x_01) after applying Minimax is: {alpha_beta_pruning_value}\")\n"
   ]
  },
  {
   "cell_type": "code",
   "execution_count": null,
   "metadata": {},
   "outputs": [],
   "source": []
  }
 ],
 "metadata": {
  "kernelspec": {
   "display_name": "Python 3",
   "language": "python",
   "name": "python3"
  },
  "language_info": {
   "codemirror_mode": {
    "name": "ipython",
    "version": 3
   },
   "file_extension": ".py",
   "mimetype": "text/x-python",
   "name": "python",
   "nbconvert_exporter": "python",
   "pygments_lexer": "ipython3",
   "version": "3.10.10"
  }
 },
 "nbformat": 4,
 "nbformat_minor": 2
}
